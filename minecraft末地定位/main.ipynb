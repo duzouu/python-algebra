{
 "metadata": {
  "language_info": {
   "codemirror_mode": {
    "name": "ipython",
    "version": 3
   },
   "file_extension": ".py",
   "mimetype": "text/x-python",
   "name": "python",
   "nbconvert_exporter": "python",
   "pygments_lexer": "ipython3",
   "version": "3.9.2-final"
  },
  "orig_nbformat": 2,
  "kernelspec": {
   "name": "python392jvsc74a57bd07bb213b6aeb4e75a409203c036d288d86364c5d2edb9f54f5d606cac035fb85d",
   "display_name": "Python 3.9.2 64-bit ('py39')"
  }
 },
 "nbformat": 4,
 "nbformat_minor": 2,
 "cells": [
  {
   "source": [
    "# minecraft末地定位\n",
    "起点$(x^{}_{1},y^{}_{1}) \\dots (x^{}_{n},y^{}_{n})$，落点$(x^{'}_{1},y^{'}_{1}) \\dots (x^{'}_{n},y^{'}_{n})$，建立方程$Ax=b$，其中：\n",
    "$$\n",
    "A=\\begin{pmatrix}\n",
    "y^{'}_{1}-y^{}_{1} & -x^{'}_{1}+x^{}_{1} \\\\\n",
    "\\vdots & \\vdots \\\\\n",
    "y^{'}_{n}-y^{}_{n} & -x^{'}_{n}+x^{}_{n}\n",
    "\\end{pmatrix}\n",
    "$$\n",
    "$$\n",
    "b=\\begin{pmatrix}\n",
    "x^{}_{1}y^{'}_{1}-y^{}_{1}x^{'}_{1} \\\\\n",
    "\\vdots \\\\\n",
    "x^{}_{n}y^{'}_{n}-y^{}_{n}x^{'}_{n}\n",
    "\\end{pmatrix}\n",
    "$$\n",
    "用最小二乘法$A^{'}Ax=A^{'}b$求解。"
   ],
   "cell_type": "markdown",
   "metadata": {}
  },
  {
   "cell_type": "code",
   "execution_count": 1,
   "metadata": {},
   "outputs": [
    {
     "output_type": "stream",
     "name": "stdout",
     "text": [
      "[[ 1348.60535672]\n [-2099.31081044]]\n"
     ]
    }
   ],
   "source": [
    "import numpy as np\n",
    "\n",
    "\n",
    "def fun(a: list, b: list):\n",
    "    start = np.array(a)\n",
    "    end = np.array(b)\n",
    "\n",
    "    alpha = end-start\n",
    "\n",
    "    A = np.matmul(alpha, np.array([[0, -1],\n",
    "                                   [1, 0]]))\n",
    "\n",
    "    b = np.linalg.det(np.reshape(np.append(start, end, axis=1), (-1, 2, 2)))\n",
    "    b = np.reshape(b, (-1, 1))\n",
    "\n",
    "    return np.linalg.solve(np.matmul(A.T, A), np.matmul(A.T, b))\n",
    "\n",
    "\n",
    "x = fun([[215.265, -250.690],\n",
    "         [183.309, -321.295],\n",
    "         [189.825, -402.478]],\n",
    "\n",
    "        [[220.898, -259.886],\n",
    "         [189.336, -330.470],\n",
    "         [198.194, -414.743]])\n",
    "\n",
    "print(x)\n"
   ]
  }
 ]
}